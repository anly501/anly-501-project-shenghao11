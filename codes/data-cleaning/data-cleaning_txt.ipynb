{
 "cells": [
  {
   "cell_type": "code",
   "execution_count": 86,
   "metadata": {},
   "outputs": [],
   "source": [
    "import json\n",
    "import pandas as pd\n",
    "import numpy as np\n",
    "from sklearn.feature_extraction.text import CountVectorizer\n"
   ]
  },
  {
   "cell_type": "code",
   "execution_count": 87,
   "metadata": {},
   "outputs": [],
   "source": [
    "data = pd.read_json('../01-data-gathering/tmp-snapshot.json', lines=True)\n",
    "#data = json.dumps(data, indent=4, sort_keys=True)\n",
    "data.values[0][1]\n",
    "text=[]\n",
    "#lang=[]\n",
    "#retweeted=[]\n",
    "#retweet_count=[]\n",
    "#id_str=[]\n",
    "\n",
    "for i in range(1,np.shape(data)[1]-1):\n",
    "        text=[text,data.values[0][i][\"text\"]]\n",
    "        #lang=[lang,data.values[0][i][\"lang\"]]\n",
    "        #retweeted=[retweeted,data.values[0][i][\"retweeted\"]]\n",
    "        #retweet_count=[retweet_count,data.values[0][i][\"retweet_count\"]]\n",
    "        #id_str=[id_str,data.values[0][i][\"id_str\"]]\n"
   ]
  },
  {
   "cell_type": "code",
   "execution_count": 88,
   "metadata": {},
   "outputs": [
    {
     "data": {
      "text/plain": [
       "[[[[[[[[[[[[[[[[[[[[[[[[[[[[[[[[[[[[[[[[[[[[[[[[[[[[[[[[[[[[[[[[[[[[[[[[[[[[[[[[[[[[[[[[[[[[[[[[[[],\n",
       "                                                                                                 'Officials and or 340 days of the natural growth rate of 9.6% for the examination of business and technology, arts,… https://t.co/dnEdjMiwS5'],\n",
       "                                                                                                '@prinzmagtulis @znsuzara @jcpunongbayan @ceewritesthesis @jaarapoc @BangkoSentral But “sustainable growth of employ… https://t.co/cNeJ5gNPAr'],\n",
       "                                                                                               \"Northwest Natural Holding Company's quarterly revenue growth rate YoY of 30.90% ranked 1110 out of 5763 companies i… https://t.co/gF6mUyyUjw\"],\n",
       "                                                                                              '@David__Osland Our natural growth rate is negative. \\n\\nWe would have a surplus of houses if not for immigration.'],\n",
       "                                                                                             '@CriticalCricket @BaronBeeGangsta @paulkrugman But, I do believe growth changes slower than the change in risk rece… https://t.co/asMrWKqDx3'],\n",
       "                                                                                            '@CriticalCricket @BaronBeeGangsta @paulkrugman If the natural rate has gone up, then you would need a return to mor… https://t.co/5rOGfPirqR'],\n",
       "                                                                                           \"Natural Health Trends Corp's quarterly revenue growth rate YoY of -17.30% ranked 3622 out of 5763 companies in our… https://t.co/UpEwzYAZ6p\"],\n",
       "                                                                                          \"@VS_shekhawat01 @mybestfrens @spectatorindex As economies become bigger, growth rate drops down. That's natural. He… https://t.co/mGkDZRJWCc\"],\n",
       "                                                                                         '@ritalinjunkie2 @BirthGauge If Croatia were to have the same death rate as Ireland or Sweden for example, its natur… https://t.co/Y59DaZhYSf'],\n",
       "                                                                                        \"@ritalinjunkie2 @BirthGauge As long as Croatia's insanely high death rate of 16‰ is not somehow resolved, the count… https://t.co/1hKk9JL9VQ\"],\n",
       "                                                                                       'Advice: Follow Giorgia who is following Victor. Specifically, use (Ru) natural resources for national benefit in de… https://t.co/kbGZ40zoj3'],\n",
       "                                                                                      '@BirthGauge That makes me curious if Southeastern European countries would have a positive natural growth rate if i… https://t.co/raquDaRgQo'],\n",
       "                                                                                     '@RealityChequeUK @yvonnepadley @CivilShy @tomhfh But that does not indicate an exponential growth in immigration, j… https://t.co/HRKEqlvEYa'],\n",
       "                                                                                    '@Peters_Glen Natural forest growth rate (m3/ha,a) decreases when it ages. Increasing temperature and CO2 have helpe… https://t.co/fTJPauFLW8'],\n",
       "                                                                                   \"Natural Alternatives International, Inc's quarterly revenue growth rate YoY of 18.30% ranked 1683 out of 5763 compa… https://t.co/5KlmSGnf6N\"],\n",
       "                                                                                  '@BCLMacro @asentance It was a level for so many economic variables Adding to bonds.\\n1. Nominal wage growth also (gi… https://t.co/8aEQbaN1DL'],\n",
       "                                                                                 \"@Richard21583873 @BestForBritain @MartinSLewis @GMB Plus like I said it's a natural part of our economic cycle. The… https://t.co/GKn7Hk08Lc\"],\n",
       "                                                                                \"RT @extinctsymbol: When politicians talk about 'growth' what they really mean is increasing the rate at which the natural world is being de…\"],\n",
       "                                                                               \"11. Africa's inability to reduce its high rate of extreme poverty has been attributed to many factors, the first be… https://t.co/rpB3dX8Brf\"],\n",
       "                                                                              \"RT @extinctsymbol: When politicians talk about 'growth' what they really mean is increasing the rate at which the natural world is being de…\"],\n",
       "                                                                             'RT @shortl2021: 2/8. A natural rate of interest \"r\" exists that is broadly a function of economic growth \"g\" &amp; reflects a reward for delaye…'],\n",
       "                                                                            \"@ranil @trussliz @Conservatives No. 'Growth' is an ever increasing rate of resource consumption. Impoverishes+reduc… https://t.co/bumxpjhQPW\"],\n",
       "                                                                           'RT @shortl2021: 2/8. A natural rate of interest \"r\" exists that is broadly a function of economic growth \"g\" &amp; reflects a reward for delaye…'],\n",
       "                                                                          'RT @LaurentFranckx: because retirements also slow economic growth. In recent decades the scramble for returns has pushed down the so-called…'],\n",
       "                                                                         'because retirements also slow economic growth. In recent decades the scramble for returns has pushed down the so-ca… https://t.co/g3U53E245Z'],\n",
       "                                                                        'RT @shortl2021: 2/8. A natural rate of interest \"r\" exists that is broadly a function of economic growth \"g\" &amp; reflects a reward for delaye…'],\n",
       "                                                                       '@DonalOC91 @tijgupta Yes, they are lowering the interest rate in response to falling growth. But we need to differe… https://t.co/MAQUj5OUO7'],\n",
       "                                                                      \"@shortl2021 @tijgupta Ok thanks for your answer. I'm sure they would agree that growth is causal, but say that they… https://t.co/hBoPg6LaxF\"],\n",
       "                                                                     'RT @shortl2021: 2/8. A natural rate of interest \"r\" exists that is broadly a function of economic growth \"g\" &amp; reflects a reward for delaye…'],\n",
       "                                                                    '@DonalOC91 @tijgupta Traditionally, growth rate should determine the natural rate of interest. Chancellor posits th… https://t.co/njFqVnpHSt'],\n",
       "                                                                   'RT @shortl2021: 2/8. A natural rate of interest \"r\" exists that is broadly a function of economic growth \"g\" &amp; reflects a reward for delaye…'],\n",
       "                                                                  \"Pioneer Natural Resources Company's quarterly revenue growth rate YoY of 64.10% ranked 593 out of 5761 companies in… https://t.co/DwcpXqo2da\"],\n",
       "                                                                 'RT @shortl2021: 2/8. A natural rate of interest \"r\" exists that is broadly a function of economic growth \"g\" &amp; reflects a reward for delaye…'],\n",
       "                                                                'RT @shortl2021: 2/8. A natural rate of interest \"r\" exists that is broadly a function of economic growth \"g\" &amp; reflects a reward for delaye…'],\n",
       "                                                               'RT @shortl2021: 2/8. A natural rate of interest \"r\" exists that is broadly a function of economic growth \"g\" &amp; reflects a reward for delaye…'],\n",
       "                                                              'RT @shortl2021: 2/8. A natural rate of interest \"r\" exists that is broadly a function of economic growth \"g\" &amp; reflects a reward for delaye…'],\n",
       "                                                             'RT @shortl2021: 2/8. A natural rate of interest \"r\" exists that is broadly a function of economic growth \"g\" &amp; reflects a reward for delaye…'],\n",
       "                                                            \"Natural Health Trends Corp's quarterly revenue growth rate YoY of -17.30% ranked 3622 out of 5761 companies in our… https://t.co/lHhiBNjO5R\"],\n",
       "                                                           '2/8. A natural rate of interest \"r\" exists that is broadly a function of economic growth \"g\" &amp; reflects a reward fo… https://t.co/zhwiJLBC7l'],\n",
       "                                                          '@SullyCNBC What is the natural rate of employment growth to absorb new workers? 100-200k a month?'],\n",
       "                                                         '@NickTimiraos Exactly why Friedman was right. Federal Reserve should only grow money supply at the natural rate of… https://t.co/KCXPaslvx7'],\n",
       "                                                        'Natural Food Preservatives Market Size to Reach USD 1.06 Billion by 2026; Industry Compound Annual Growth Rate of\\xa03… https://t.co/5JWI2T3s2y'],\n",
       "                                                       'Natural Food Preservatives Market Size to Reach USD 1.06 Billion by 2026; Industry Compound Annual Growth Rate of\\xa03… https://t.co/DhOpDxk6rM'],\n",
       "                                                      'Since its establishment in 2019, #WEDD has been committed to improving its comprehensive strength, urbanization lev… https://t.co/kDUHuyYhJw'],\n",
       "                                                     \"Northwest Natural Holding Company's quarterly revenue growth rate YoY of 30.90% ranked 1111 out of 5761 companies i… https://t.co/Nf14ZGzQPV\"],\n",
       "                                                    '@TheAshes45 @otherwiseimok @sunheadbowed There is no increase actually, this is just the natural \"growth\" rate when… https://t.co/D78rsksPZV'],\n",
       "                                                   'RT @AmecoSolar: 📣Do you know why the #SCE rate increase happen?\\n\\nThe main reason for rate increases is the growth of natural gas prices bec…'],\n",
       "                                                  '@EdwardesFrancis Indeed. But the housing systems include also correlate (legally) with density, enrichment, food qu… https://t.co/JIKq6iFJbT'],\n",
       "                                                 \"Natural Alternatives International, Inc's quarterly revenue growth rate YoY of 18.30% ranked 1684 out of 5761 compa… https://t.co/1FKawPRi2p\"],\n",
       "                                                'By raising interest rates the all the fed is doing is killing natural growth and job security. Unnatural inflation… https://t.co/7ZHFUel8eL'],\n",
       "                                               \"Natural Health Trends Corp's quarterly revenue growth rate YoY of -17.30% ranked 3618 out of 5761 companies in our… https://t.co/dg9mVPS5HT\"],\n",
       "                                              \"RT @extinctsymbol: When politicians talk about 'growth' what they really mean is increasing the rate at which the natural world is being de…\"],\n",
       "                                             \"Natural Alternatives International, Inc's quarterly revenue growth rate YoY of 18.30% ranked 1684 out of 5761 compa… https://t.co/e6lEASvhDW\"],\n",
       "                                            'undoubtedly this growth rate is entirely natural and not at all social https://t.co/dSjXQS1pEe'],\n",
       "                                           '@campmosey you ain’t seen enough bbls vs natural ass to tell that the growth rate and shit ain’t normal?\\n\\nhow about… https://t.co/2CeTnCIxOL'],\n",
       "                                          'Conventional monetary policy frameworks view collapsing population growth as a structural headwind to persistent in… https://t.co/WAzyPzmnre'],\n",
       "                                         'RT @jbmichau: Population ageing + Low productivity growth + High inequality + Low demand for investment =&gt; Depressed demand =&gt; Low (natural…'],\n",
       "                                        '@mark199 That probably refers to the 97-10 period you mentioned which generated that relatively lowish growth you w… https://t.co/rntwXjZFaI'],\n",
       "                                       'Looking at the Fed funds rate level over the last 10 years shows the healthy and natural rate hike cycle begun in 2… https://t.co/nvMb7cBywf'],\n",
       "                                      'RT @ECOWARRIORSS: Forests being destroyed at a pace even with rate of human population growth. Unless something changes soon, by 2030 we wi…'],\n",
       "                                     'RT @ECOWARRIORSS: Forests being destroyed at a pace even with rate of human population growth. Unless something changes soon, by 2030 we wi…'],\n",
       "                                    'RT @ECOWARRIORSS: Forests being destroyed at a pace even with rate of human population growth. Unless something changes soon, by 2030 we wi…'],\n",
       "                                   'Natural Gas Hydrates Market Analysis, Revenue, Price, Market Share, Growth Rate ... https://t.co/JWUeStv3CO'],\n",
       "                                  '@solsikke66 Depends what you add up when measuring economic growth. \\n\\nThe industry needed to produce the decarbonis… https://t.co/bV4xlJWaUA'],\n",
       "                                 \"RT @extinctsymbol: When politicians talk about 'growth' what they really mean is increasing the rate at which the natural world is being de…\"],\n",
       "                                'Automotive Natural Gas Vehicle Market Product Driving Factors, Capacity and Growth Rate Analysis to 2028 - https://t.co/TCr3dNoxyA'],\n",
       "                               \"RT @extinctsymbol: When politicians talk about 'growth' what they really mean is increasing the rate at which the natural world is being de…\"],\n",
       "                              \"RT @extinctsymbol: When politicians talk about 'growth' what they really mean is increasing the rate at which the natural world is being de…\"],\n",
       "                             \"Pioneer Natural Resources Company's quarterly revenue growth rate YoY of 64.10% ranked 591 out of 5761 companies in… https://t.co/cSwtxp9cCC\"],\n",
       "                            \"RT @extinctsymbol: When politicians talk about 'growth' what they really mean is increasing the rate at which the natural world is being de…\"],\n",
       "                           '📣Do you know why the #SCE rate increase happen?\\n\\nThe main reason for rate increases is the growth of natural gas pr… https://t.co/LDPF8M1Y8T'],\n",
       "                          \"RT @extinctsymbol: When politicians talk about 'growth' what they really mean is increasing the rate at which the natural world is being de…\"],\n",
       "                         \"RT @extinctsymbol: When politicians talk about 'growth' what they really mean is increasing the rate at which the natural world is being de…\"],\n",
       "                        \"RT @extinctsymbol: When politicians talk about 'growth' what they really mean is increasing the rate at which the natural world is being de…\"],\n",
       "                       \"RT @extinctsymbol: When politicians talk about 'growth' what they really mean is increasing the rate at which the natural world is being de…\"],\n",
       "                      \"RT @extinctsymbol: When politicians talk about 'growth' what they really mean is increasing the rate at which the natural world is being de…\"],\n",
       "                     \"Natural Health Trends Corp's quarterly revenue growth rate YoY of -17.30% ranked 3618 out of 5761 companies in our… https://t.co/lNvBc9b0Wa\"],\n",
       "                    \"RT @extinctsymbol: When politicians talk about 'growth' what they really mean is increasing the rate at which the natural world is being de…\"],\n",
       "                   \"RT @extinctsymbol: When politicians talk about 'growth' what they really mean is increasing the rate at which the natural world is being de…\"],\n",
       "                  \"RT @extinctsymbol: When politicians talk about 'growth' what they really mean is increasing the rate at which the natural world is being de…\"],\n",
       "                 \"RT @extinctsymbol: When politicians talk about 'growth' what they really mean is increasing the rate at which the natural world is being de…\"],\n",
       "                \"RT @extinctsymbol: When politicians talk about 'growth' what they really mean is increasing the rate at which the natural world is being de…\"],\n",
       "               \"RT @extinctsymbol: When politicians talk about 'growth' what they really mean is increasing the rate at which the natural world is being de…\"],\n",
       "              \"RT @extinctsymbol: When politicians talk about 'growth' what they really mean is increasing the rate at which the natural world is being de…\"],\n",
       "             \"RT @extinctsymbol: When politicians talk about 'growth' what they really mean is increasing the rate at which the natural world is being de…\"],\n",
       "            \"RT @extinctsymbol: When politicians talk about 'growth' what they really mean is increasing the rate at which the natural world is being de…\"],\n",
       "           \"RT @extinctsymbol: When politicians talk about 'growth' what they really mean is increasing the rate at which the natural world is being de…\"],\n",
       "          \"RT @extinctsymbol: When politicians talk about 'growth' what they really mean is increasing the rate at which the natural world is being de…\"],\n",
       "         \"RT @extinctsymbol: When politicians talk about 'growth' what they really mean is increasing the rate at which the natural world is being de…\"],\n",
       "        \"RT @extinctsymbol: When politicians talk about 'growth' what they really mean is increasing the rate at which the natural world is being de…\"],\n",
       "       \"RT @extinctsymbol: When politicians talk about 'growth' what they really mean is increasing the rate at which the natural world is being de…\"],\n",
       "      \"RT @extinctsymbol: When politicians talk about 'growth' what they really mean is increasing the rate at which the natural world is being de…\"],\n",
       "     \"RT @extinctsymbol: When politicians talk about 'growth' what they really mean is increasing the rate at which the natural world is being de…\"],\n",
       "    \"RT @extinctsymbol: When politicians talk about 'growth' what they really mean is increasing the rate at which the natural world is being de…\"],\n",
       "   \"When politicians talk about 'growth' what they really mean is increasing the rate at which the natural world is being destroyed.\"],\n",
       "  '6/\\n... the natural growth of a player.\\n\\nA 63% growth in power rate at the age nearly every other hitter in the then… https://t.co/JHHLgFm11Z'],\n",
       " '@seal718 @Kanthan2030 @TheEconomist I agree, but Chinese tradition culture is also very tough until now\\nI suggest y… https://t.co/lcnxT0vNaY']"
      ]
     },
     "execution_count": 88,
     "metadata": {},
     "output_type": "execute_result"
    }
   ],
   "source": [
    "text"
   ]
  },
  {
   "cell_type": "code",
   "execution_count": 89,
   "metadata": {},
   "outputs": [
    {
     "ename": "AttributeError",
     "evalue": "'list' object has no attribute 'lower'",
     "output_type": "error",
     "traceback": [
      "\u001b[1;31m---------------------------------------------------------------------------\u001b[0m",
      "\u001b[1;31mAttributeError\u001b[0m                            Traceback (most recent call last)",
      "\u001b[1;32mc:\\Users\\Shenghao\\anly-501-project-shenghao11\\codes\\data-cleaning\\data-cleaning_txt.ipynb Cell 4\u001b[0m in \u001b[0;36m<cell line: 2>\u001b[1;34m()\u001b[0m\n\u001b[0;32m      <a href='vscode-notebook-cell:/c%3A/Users/Shenghao/anly-501-project-shenghao11/codes/data-cleaning/data-cleaning_txt.ipynb#W4sZmlsZQ%3D%3D?line=0'>1</a>\u001b[0m vectorizer\u001b[39m=\u001b[39mCountVectorizer()   \n\u001b[1;32m----> <a href='vscode-notebook-cell:/c%3A/Users/Shenghao/anly-501-project-shenghao11/codes/data-cleaning/data-cleaning_txt.ipynb#W4sZmlsZQ%3D%3D?line=1'>2</a>\u001b[0m Xs  \u001b[39m=\u001b[39m  vectorizer\u001b[39m.\u001b[39;49mfit_transform(text)   \n\u001b[0;32m      <a href='vscode-notebook-cell:/c%3A/Users/Shenghao/anly-501-project-shenghao11/codes/data-cleaning/data-cleaning_txt.ipynb#W4sZmlsZQ%3D%3D?line=2'>3</a>\u001b[0m \u001b[39mprint\u001b[39m(\u001b[39mtype\u001b[39m(Xs))\n",
      "File \u001b[1;32mc:\\Users\\Shenghao\\anaconda3\\envs\\ANLY501\\lib\\site-packages\\sklearn\\feature_extraction\\text.py:1338\u001b[0m, in \u001b[0;36mCountVectorizer.fit_transform\u001b[1;34m(self, raw_documents, y)\u001b[0m\n\u001b[0;32m   1330\u001b[0m             warnings\u001b[39m.\u001b[39mwarn(\n\u001b[0;32m   1331\u001b[0m                 \u001b[39m\"\u001b[39m\u001b[39mUpper case characters found in\u001b[39m\u001b[39m\"\u001b[39m\n\u001b[0;32m   1332\u001b[0m                 \u001b[39m\"\u001b[39m\u001b[39m vocabulary while \u001b[39m\u001b[39m'\u001b[39m\u001b[39mlowercase\u001b[39m\u001b[39m'\u001b[39m\u001b[39m\"\u001b[39m\n\u001b[0;32m   1333\u001b[0m                 \u001b[39m\"\u001b[39m\u001b[39m is True. These entries will not\u001b[39m\u001b[39m\"\u001b[39m\n\u001b[0;32m   1334\u001b[0m                 \u001b[39m\"\u001b[39m\u001b[39m be matched with any documents\u001b[39m\u001b[39m\"\u001b[39m\n\u001b[0;32m   1335\u001b[0m             )\n\u001b[0;32m   1336\u001b[0m             \u001b[39mbreak\u001b[39;00m\n\u001b[1;32m-> 1338\u001b[0m vocabulary, X \u001b[39m=\u001b[39m \u001b[39mself\u001b[39;49m\u001b[39m.\u001b[39;49m_count_vocab(raw_documents, \u001b[39mself\u001b[39;49m\u001b[39m.\u001b[39;49mfixed_vocabulary_)\n\u001b[0;32m   1340\u001b[0m \u001b[39mif\u001b[39;00m \u001b[39mself\u001b[39m\u001b[39m.\u001b[39mbinary:\n\u001b[0;32m   1341\u001b[0m     X\u001b[39m.\u001b[39mdata\u001b[39m.\u001b[39mfill(\u001b[39m1\u001b[39m)\n",
      "File \u001b[1;32mc:\\Users\\Shenghao\\anaconda3\\envs\\ANLY501\\lib\\site-packages\\sklearn\\feature_extraction\\text.py:1209\u001b[0m, in \u001b[0;36mCountVectorizer._count_vocab\u001b[1;34m(self, raw_documents, fixed_vocab)\u001b[0m\n\u001b[0;32m   1207\u001b[0m \u001b[39mfor\u001b[39;00m doc \u001b[39min\u001b[39;00m raw_documents:\n\u001b[0;32m   1208\u001b[0m     feature_counter \u001b[39m=\u001b[39m {}\n\u001b[1;32m-> 1209\u001b[0m     \u001b[39mfor\u001b[39;00m feature \u001b[39min\u001b[39;00m analyze(doc):\n\u001b[0;32m   1210\u001b[0m         \u001b[39mtry\u001b[39;00m:\n\u001b[0;32m   1211\u001b[0m             feature_idx \u001b[39m=\u001b[39m vocabulary[feature]\n",
      "File \u001b[1;32mc:\\Users\\Shenghao\\anaconda3\\envs\\ANLY501\\lib\\site-packages\\sklearn\\feature_extraction\\text.py:111\u001b[0m, in \u001b[0;36m_analyze\u001b[1;34m(doc, analyzer, tokenizer, ngrams, preprocessor, decoder, stop_words)\u001b[0m\n\u001b[0;32m    109\u001b[0m \u001b[39melse\u001b[39;00m:\n\u001b[0;32m    110\u001b[0m     \u001b[39mif\u001b[39;00m preprocessor \u001b[39mis\u001b[39;00m \u001b[39mnot\u001b[39;00m \u001b[39mNone\u001b[39;00m:\n\u001b[1;32m--> 111\u001b[0m         doc \u001b[39m=\u001b[39m preprocessor(doc)\n\u001b[0;32m    112\u001b[0m     \u001b[39mif\u001b[39;00m tokenizer \u001b[39mis\u001b[39;00m \u001b[39mnot\u001b[39;00m \u001b[39mNone\u001b[39;00m:\n\u001b[0;32m    113\u001b[0m         doc \u001b[39m=\u001b[39m tokenizer(doc)\n",
      "File \u001b[1;32mc:\\Users\\Shenghao\\anaconda3\\envs\\ANLY501\\lib\\site-packages\\sklearn\\feature_extraction\\text.py:69\u001b[0m, in \u001b[0;36m_preprocess\u001b[1;34m(doc, accent_function, lower)\u001b[0m\n\u001b[0;32m     50\u001b[0m \u001b[39m\"\"\"Chain together an optional series of text preprocessing steps to\u001b[39;00m\n\u001b[0;32m     51\u001b[0m \u001b[39mapply to a document.\u001b[39;00m\n\u001b[0;32m     52\u001b[0m \n\u001b[1;32m   (...)\u001b[0m\n\u001b[0;32m     66\u001b[0m \u001b[39m    preprocessed string\u001b[39;00m\n\u001b[0;32m     67\u001b[0m \u001b[39m\"\"\"\u001b[39;00m\n\u001b[0;32m     68\u001b[0m \u001b[39mif\u001b[39;00m lower:\n\u001b[1;32m---> 69\u001b[0m     doc \u001b[39m=\u001b[39m doc\u001b[39m.\u001b[39;49mlower()\n\u001b[0;32m     70\u001b[0m \u001b[39mif\u001b[39;00m accent_function \u001b[39mis\u001b[39;00m \u001b[39mnot\u001b[39;00m \u001b[39mNone\u001b[39;00m:\n\u001b[0;32m     71\u001b[0m     doc \u001b[39m=\u001b[39m accent_function(doc)\n",
      "\u001b[1;31mAttributeError\u001b[0m: 'list' object has no attribute 'lower'"
     ]
    }
   ],
   "source": [
    "vectorizer=CountVectorizer()   \n",
    "Xs  =  vectorizer.fit_transform(text)   \n",
    "print(type(Xs))"
   ]
  }
 ],
 "metadata": {
  "kernelspec": {
   "display_name": "Python 3.10.4 ('ANLY501')",
   "language": "python",
   "name": "python3"
  },
  "language_info": {
   "codemirror_mode": {
    "name": "ipython",
    "version": 3
   },
   "file_extension": ".py",
   "mimetype": "text/x-python",
   "name": "python",
   "nbconvert_exporter": "python",
   "pygments_lexer": "ipython3",
   "version": "3.10.4"
  },
  "orig_nbformat": 4,
  "vscode": {
   "interpreter": {
    "hash": "12f971a65fa82da51c8491d16dffb13b1ff4c094cfeb588ea2f4c185d160b181"
   }
  }
 },
 "nbformat": 4,
 "nbformat_minor": 2
}
